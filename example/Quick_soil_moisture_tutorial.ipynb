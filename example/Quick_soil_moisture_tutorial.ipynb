{
  "cells": [
    {
      "cell_type": "markdown",
      "metadata": {
        "id": "Vd1ZirV733Bn"
      },
      "source": [
        "# MHPI hydroDL Tutorial\n",
        "\n",
        "This code contains deep learning code used to model hydrologic systems from soil moisture to streamflow or from projection to forecast.\n",
        "\n",
        "[![PyPI](https://img.shields.io/badge/pypi-version%200.1-blue)](https://pypi.org/project/hydroDL/0.1.0/)  [![DOI](https://zenodo.org/badge/DOI/10.5281/zenodo.3993880.svg)](https://doi.org/10.5281/zenodo.3993880) [![CodeStyle](https://img.shields.io/badge/code%20style-Black-black)]()\n"
      ]
    },
    {
      "cell_type": "markdown",
      "source": [],
      "metadata": {
        "id": "sEhnoWHCzC_f"
      }
    },
    {
      "cell_type": "markdown",
      "metadata": {
        "id": "fQs9j0Xp4NsW"
      },
      "source": [
        "Welcome to our hydroDL tutorial at The Pennsylvania State University! The following notebook is designed to provide a quick start to our project and get you ready to write your own neural networks."
      ]
    },
    {
      "cell_type": "markdown",
      "metadata": {
        "id": "rSikU4JW4R-X"
      },
      "source": [
        "### Obtain hydroDL from Github"
      ]
    },
    {
      "cell_type": "code",
      "execution_count": null,
      "metadata": {
        "colab": {
          "base_uri": "https://localhost:8080/"
        },
        "id": "mkszvjkQ4VhY",
        "outputId": "469b7e0b-246b-4048-d35b-baaaef804e80"
      },
      "outputs": [
        {
          "output_type": "stream",
          "name": "stdout",
          "text": [
            "Cloning into 'hydroDLpack'...\n",
            "remote: Enumerating objects: 1165, done.\u001b[K\n",
            "remote: Counting objects: 100% (205/205), done.\u001b[K\n",
            "remote: Compressing objects: 100% (116/116), done.\u001b[K\n",
            "remote: Total 1165 (delta 116), reused 143 (delta 85), pack-reused 960\u001b[K\n",
            "Receiving objects: 100% (1165/1165), 60.71 MiB | 18.50 MiB/s, done.\n",
            "Resolving deltas: 100% (499/499), done.\n",
            "Updating files: 100% (265/265), done.\n",
            "/bin/bash: line 1: conda: command not found\n"
          ]
        }
      ],
      "source": [
        "import os\n",
        "os.chdir(\"/content/\")\n",
        "import sys\n",
        "sys.path.append('../')\n",
        "!rm -rf hydroDLpack # removes any old versions of hydroDL (in case you ran this tutorial previously)\n",
        "!git clone https://github.com/mhpi/hydroDL.git hydroDLpack\n",
        "os.chdir(\"/content/hydroDLpack\")\n",
        "!conda develop ."
      ]
    },
    {
      "cell_type": "code",
      "source": [
        "import os\n",
        "import torch\n",
        "import numpy as np\n",
        "\n",
        "import sys\n",
        "sys.path.append('..')\n",
        "\n",
        "#from hydroDL.model.train import trainModel\n",
        "from hydroDL.model.test import testModel\n",
        "from hydroDL.post.stat import statError as cal_metric\n",
        "from hydroDL.data.load_csv import LoadCSV\n",
        "from hydroDL.utils.norm import re_folder, trans_norm\n",
        "\n",
        "# set configuration\n",
        "output_s = \"./output/quick_start/\"  # output path\n",
        "csv_path_s = \"./example/demo_data/\"  # demo data path\n",
        "all_date_list = [\"2015-04-01\", \"2017-03-31\"]  # demo data time period\n",
        "train_date_list = [\"2015-04-01\", \"2016-03-31\"]  # training period\n",
        "# time series variables list\n",
        "var_time_series = [\"VGRD_10_FORA\", \"DLWRF_FORA\", \"UGRD_10_FORA\", \"DSWRF_FORA\", \"TMP_2_FORA\", \"SPFH_2_FORA\", \"APCP_FORA\", ]\n",
        "# constant variables list\n",
        "var_constant = [\"flag_extraOrd\", \"Clay\", \"Bulk\", \"Sand\", \"flag_roughness\", \"flag_landcover\", \"flag_vegDense\", \"Silt\", \"NDVI\",\n",
        "         \"flag_albedo\", \"flag_waterbody\", \"Capa\", ]\n",
        "# target variable list\n",
        "target = [\"SMAP_AM\"]\n",
        "\n",
        "# generate output folder\n",
        "re_folder(output_s)\n",
        "\n",
        "# load your datasets\n",
        "\"\"\"\n",
        "You can change it with your data. The data structure is as follows:\n",
        "x_train (forcing data, e.g. precipitation, temperature ...): [pixels, time, features]\n",
        "c_train (constant data, e.g. soil properties, land cover ...): [pixels, features]\n",
        "target (e.g. soil moisture, streamflow ...): [pixels, time, 1]\n",
        "\n",
        "Data type: numpy.float\n",
        "We have normalized the raw data.\n",
        "example:\n",
        "    If the data size is \"[pixels, time, features]\" or \"[pixels, features]\", the statistics for 10% to 90% of the data are calculated as follows:\n",
        "\n",
        "    from hydroDL.utils.norm import cal_statistics\n",
        "    stat_list = cal_statistics(data, re_extreme=True, percent=10)\n",
        "    [left_p10, left_p90, mean, std] = stat_list\n",
        "\"\"\"\n",
        "train_csv = LoadCSV(csv_path_s, train_date_list, all_date_list)\n",
        "x_train = train_csv.load_time_series(var_time_series)  # data size: [pixels, time, features]\n",
        "c_train = train_csv.load_constant(var_constant, convert_time_series=False)  # [pixels, features]\n",
        "y_train = train_csv.load_time_series(target, remove_nan=False)  # [pixels, time, 1]\n",
        "\n",
        "# validation the result\n",
        "# load validation datasets\n",
        "val_date_list = [\"2016-04-01\", \"2017-03-31\"]  # validation period\n",
        "# load your data. same as training data\n",
        "val_csv = LoadCSV(csv_path_s, val_date_list, all_date_list)\n",
        "x_val = val_csv.load_time_series(var_time_series)\n",
        "c_val = val_csv.load_constant(var_constant, convert_time_series=False)\n",
        "y_val = val_csv.load_time_series(target, remove_nan=False)\n"
      ],
      "metadata": {
        "id": "Lhc4IkidmKy-"
      },
      "execution_count": null,
      "outputs": []
    },
    {
      "cell_type": "code",
      "source": [
        "print(type(x_train))\n",
        "print(x_train.shape, c_train.shape, y_train.shape)\n",
        "print(x_val.shape, c_val.shape, y_val.shape)"
      ],
      "metadata": {
        "colab": {
          "base_uri": "https://localhost:8080/"
        },
        "id": "VB3jAw4nSOoJ",
        "outputId": "bba4c086-d261-4f4c-e3db-fcf0f7eca49f"
      },
      "execution_count": null,
      "outputs": [
        {
          "output_type": "stream",
          "name": "stdout",
          "text": [
            "<class 'numpy.ndarray'>\n",
            "(412, 366, 7) (412, 12) (412, 366, 1)\n",
            "(412, 365, 7) (412, 12) (412, 365, 1)\n"
          ]
        }
      ]
    },
    {
      "cell_type": "code",
      "source": [
        "'''\n",
        "load_data is the Dataloader function for the training function. These functions are typically embedded inside hydroDL package,\n",
        "but they are pulled out here so that newcomers can understand them without packaging details.\n",
        "They help to build the minibatch and copy to cuda() device\n",
        "Here we extract a minibatch from inputs[\"x\", \"c\", \"y\"] and wrap the extracted data to data[\"x\", \"yTrain\"]\n",
        "'''\n",
        "from hydroDL.master.master import loadModel\n",
        "from hydroDL.model.crit import RmseLoss\n",
        "from hydroDL.model.rnn import CudnnLstmModel\n",
        "from hydroDL.model.rnn import CpuLstmModel\n",
        "from hydroDL.model.crit import RmseLoss, NSELossBatch,NSESqrtLossBatch\n",
        "from hydroDL.model.settings import make_train_settings\n",
        "import pandas as pd\n",
        "from time import sleep\n",
        "from tqdm import trange\n",
        "import hydroDL.core.logger as logger\n",
        "from hydroDL.model import crit\n",
        "import time\n",
        "log = logger.get_logger(\"model.train_.train\")\n",
        "\n",
        "def select_subset(\n",
        "    x, iGrid, iT, rho, c=None, tupleOut=False, LCopt=False, bufftime=0, **kwargs\n",
        "):\n",
        "    \"\"\"\n",
        "    Selects a subset based on the grid given\n",
        "    :param x:\n",
        "    :param iGrid:\n",
        "    :param iT:\n",
        "    :param rho:\n",
        "    :param c:\n",
        "    :param tupleOut:\n",
        "    :param LCopt:\n",
        "    :param bufftime:\n",
        "    :return:\n",
        "    \"\"\"\n",
        "    nx = x.shape[-1]\n",
        "    nt = x.shape[1]\n",
        "    if x.shape[0] == len(iGrid):  # hack\n",
        "        iGrid = np.arange(0, len(iGrid))  # hack\n",
        "    if nt <= rho:\n",
        "        iT.fill(0)\n",
        "    batchSize = iGrid.shape[0]\n",
        "    if iT is not None:\n",
        "        # batchSize = iGrid.shape[0]\n",
        "        xTensor = torch.zeros([rho + bufftime, batchSize, nx], requires_grad=False)\n",
        "        for k in range(batchSize):\n",
        "            temp = x[\n",
        "                iGrid[k] : iGrid[k] + 1, np.arange(iT[k] - bufftime, iT[k] + rho), :\n",
        "            ]\n",
        "            xTensor[:, k : k + 1, :] = torch.from_numpy(np.swapaxes(temp, 1, 0))\n",
        "    else:\n",
        "        if LCopt is True:\n",
        "            # used for local calibration kernel: FDC, SMAP...\n",
        "            if len(x.shape) == 2:\n",
        "                # Used for local calibration kernel as FDC\n",
        "                # x = Ngrid * Ntime\n",
        "                xTensor = torch.from_numpy(x[iGrid, :]).float()\n",
        "            elif len(x.shape) == 3:\n",
        "                # used for LC-SMAP x=Ngrid*Ntime*Nvar\n",
        "                xTensor = torch.from_numpy(np.swapaxes(x[iGrid, :, :], 1, 2)).float()\n",
        "        else:\n",
        "            # Used for rho equal to the whole length of time series\n",
        "            xTensor = torch.from_numpy(np.swapaxes(x[iGrid, :, :], 1, 0)).float()\n",
        "            rho = xTensor.shape[0]\n",
        "    if c is not None:\n",
        "        nc = c.shape[-1]\n",
        "        temp = np.repeat(\n",
        "            np.reshape(c[iGrid, :], [batchSize, 1, nc]), rho + bufftime, axis=1\n",
        "        )\n",
        "        cTensor = torch.from_numpy(np.swapaxes(temp, 1, 0)).float()\n",
        "        if tupleOut:\n",
        "            if torch.cuda.is_available():\n",
        "                xTensor = xTensor.cuda()\n",
        "                cTensor = cTensor.cuda()\n",
        "            out = (xTensor, cTensor)\n",
        "        else:\n",
        "            out = torch.cat((xTensor, cTensor), 2)\n",
        "    else:\n",
        "        out = xTensor\n",
        "    if torch.cuda.is_available() and type(out) is not tuple:\n",
        "        out = out.cuda()\n",
        "    return out\n",
        "\n",
        "\n",
        "def random_index(ngrid, nt, dimSubset, bufftime=0):\n",
        "    \"\"\"\n",
        "    Finds a random place to start inside of the grids\n",
        "    :param: ngrid: the number of grids\n",
        "    :param: nt: the number of tiles\n",
        "    :param: dimSubset: the dimensions of the subset\n",
        "    :param: bufftime: a buffer\n",
        "    :returns: the index of the grid and the index of the tile\n",
        "    \"\"\"\n",
        "    batchSize, rho = dimSubset\n",
        "    iGrid = np.random.randint(0, ngrid, [batchSize])\n",
        "    iT = np.random.randint(0 + bufftime, nt - rho, [batchSize])\n",
        "    return iGrid, iT\n",
        "\n",
        "def save_model(outFolder, model, epoch, modelName=\"model\"):\n",
        "    modelFile = os.path.join(outFolder, modelName + \"_Ep\" + str(epoch) + \".pt\")\n",
        "    torch.save(model, modelFile)\n",
        "\n",
        "\n",
        "def load_model(outFolder, epoch, modelName=\"model\"):\n",
        "    modelFile = os.path.join(outFolder, modelName + \"_Ep\" + str(epoch) + \".pt\")\n",
        "    model = torch.load(modelFile)\n",
        "    return model\n",
        "\n",
        "def load_data(inputs, settings):\n",
        "    \"\"\"\n",
        "\n",
        "    :param inputs:\n",
        "    :param settings:\n",
        "    :return:\n",
        "    \"\"\"\n",
        "    data = {}\n",
        "    iGrid, iT = random_index(\n",
        "        settings[\"ngrid\"], settings[\"nt\"], [settings[\"batchSize\"], settings[\"rho\"]], bufftime=settings['bufftime']\n",
        "    )\n",
        "    data[\"x\"] = select_subset(inputs[\"x\"], iGrid, iT, settings[\"rho\"], c=inputs[\"c\"], bufftime=settings['bufftime'])\n",
        "    data[\"yTrain\"] = select_subset(inputs[\"y\"], iGrid, iT, settings[\"rho\"])\n",
        "    return data, iGrid\n",
        "\n",
        "\n",
        "def trainModel(\n",
        "    model,\n",
        "    x,\n",
        "    y,\n",
        "    c,\n",
        "    lossFun,\n",
        "    nEpoch=500,\n",
        "    load_data=load_data,\n",
        "    miniBatch=[100, 30],\n",
        "    saveEpoch=100,\n",
        "    saveFolder=None,\n",
        "    mode=\"seq2seq\",\n",
        "    bufftime=0,\n",
        "):\n",
        "    optim = torch.optim.Adadelta(model.parameters())\n",
        "    if saveFolder is not None:\n",
        "        runFile = os.path.join(saveFolder, \"run.csv\")\n",
        "        rf = open(runFile, \"w+\")\n",
        "    inputs, settings = make_train_settings(model, x, y, c, nEpoch, miniBatch, bufftime,)\n",
        "    # wrap data into a dict (inputs).\n",
        "\n",
        "    if torch.cuda.is_available():\n",
        "        lossFun = lossFun.cuda()\n",
        "\n",
        "    # for illustration in this notebook, this wrapping is disabled.\n",
        "    with trange(1, nEpoch + 1) as pbar:\n",
        "        for iEpoch in pbar:\n",
        "            pbar.set_description(f\"Training {model.name}\")\n",
        "            lossEp = 0\n",
        "            t0 = time.time()\n",
        "            for iIter in range(0, settings[\"nIterEp\"]):\n",
        "                model.zero_grad()\n",
        "                dataDict, iGrid = load_data(inputs, settings)\n",
        "                x = dataDict[\"x\"]\n",
        "                yp = model(x)\n",
        "\n",
        "                if type(lossFun) in [NSELossBatch, NSESqrtLossBatch]:\n",
        "                    loss = lossFun(yp[bufftime:, :, :], dataDict[\"yTrain\"], igrid=iGrid)\n",
        "                else:\n",
        "                    loss = lossFun(yp[bufftime:, :, :], dataDict[\"yTrain\"])\n",
        "                    # Additional handling code if needed\n",
        "\n",
        "                loss.backward()\n",
        "                optim.step()\n",
        "                lossEp = lossEp + loss.item()\n",
        "                # if iIter % 1 == 0:\n",
        "                #     print('Iter {} of {}: Loss {:.3f}'.format(iIter, settings[\"nIterEp\"], loss.item()))\n",
        "            lossEp = lossEp / settings[\"nIterEp\"]\n",
        "            loss_str = \"Epoch {} Loss {:.3f} time {:.2f}\".format(\n",
        "                iEpoch, lossEp, time.time() - t0\n",
        "            )\n",
        "            print(loss_str)\n",
        "            log.debug(loss_str)\n",
        "            pbar.set_postfix(loss=lossEp)\n",
        "            sleep(0.1)\n",
        "            if saveFolder is not None:\n",
        "                rf.write(loss_str + \"\\n\")\n",
        "                if iEpoch % saveEpoch == 0:\n",
        "                    # save model\n",
        "                    modelFile = os.path.join(\n",
        "                        saveFolder, \"model_Ep\" + str(iEpoch) + \".pt\"\n",
        "                    )\n",
        "                    torch.save(model, modelFile)\n",
        "    if saveFolder is not None:\n",
        "        rf.close()\n",
        "\n",
        "    # return model\n",
        "    return model #KL: added to test\n",
        "\n",
        "\n",
        "# define model and loss function\n",
        "loss_fn = RmseLoss()  # loss function\n",
        "# select model: GPU or CPU\n",
        "device = torch.cuda.current_device() if torch.cuda.is_available() else torch.device(\"cpu\" )\n",
        "\n",
        "# hyperparameter\n",
        "EPOCH = 100\n",
        "BATCH_SIZE = 50\n",
        "RHO = 30\n",
        "HIDDEN_SIZE = 256\n",
        "nx = x_train.shape[-1] + c_train.shape[-1]  # update nx, nx = nx + nc\n",
        "ny = y_train.shape[-1]\n",
        "\n",
        "if torch.cuda.is_available():\n",
        "    model = CudnnLstmModel(nx=nx, ny=ny, hiddenSize=HIDDEN_SIZE).to(device)\n",
        "else:\n",
        "    model = CpuLstmModel(nx=nx, ny=ny, hiddenSize=HIDDEN_SIZE).to(device)\n"
      ],
      "metadata": {
        "id": "2hbYbTLjS2Vn"
      },
      "execution_count": null,
      "outputs": []
    },
    {
      "cell_type": "code",
      "source": [
        "\n",
        "# training the model\n",
        "last_model = trainModel(\n",
        "    model,\n",
        "    x_train,\n",
        "    y_train,\n",
        "    c_train,\n",
        "    loss_fn,\n",
        "    nEpoch=EPOCH,\n",
        "    miniBatch=[BATCH_SIZE, RHO],\n",
        "    saveEpoch=100,\n",
        "    saveFolder=output_s,\n",
        "    bufftime=0\n",
        ")\n",
        "val_epoch = EPOCH # Select the epoch for testing\n"
      ],
      "metadata": {
        "colab": {
          "base_uri": "https://localhost:8080/"
        },
        "id": "WWS7Qg3JEqd0",
        "outputId": "0c51bb75-230c-4890-c092-ec08fb8e2f30"
      },
      "execution_count": null,
      "outputs": [
        {
          "output_type": "stream",
          "name": "stderr",
          "text": [
            "Training CudnnLstmModel:   1%|          | 1/100 [00:03<05:58,  3.62s/it, loss=0.692]"
          ]
        },
        {
          "output_type": "stream",
          "name": "stdout",
          "text": [
            "Epoch 1 Loss 0.692 time 3.51\n"
          ]
        },
        {
          "output_type": "stream",
          "name": "stderr",
          "text": [
            "Training CudnnLstmModel:   2%|▏         | 2/100 [00:07<05:52,  3.59s/it, loss=0.575]"
          ]
        },
        {
          "output_type": "stream",
          "name": "stdout",
          "text": [
            "Epoch 2 Loss 0.575 time 3.47\n"
          ]
        },
        {
          "output_type": "stream",
          "name": "stderr",
          "text": [
            "Training CudnnLstmModel:   3%|▎         | 3/100 [00:11<06:10,  3.82s/it, loss=0.534]"
          ]
        },
        {
          "output_type": "stream",
          "name": "stdout",
          "text": [
            "Epoch 3 Loss 0.534 time 3.98\n"
          ]
        },
        {
          "output_type": "stream",
          "name": "stderr",
          "text": [
            "Training CudnnLstmModel:   4%|▍         | 4/100 [00:15<06:11,  3.87s/it, loss=0.512]"
          ]
        },
        {
          "output_type": "stream",
          "name": "stdout",
          "text": [
            "Epoch 4 Loss 0.512 time 3.85\n"
          ]
        },
        {
          "output_type": "stream",
          "name": "stderr",
          "text": [
            "Training CudnnLstmModel:   5%|▌         | 5/100 [00:18<06:02,  3.82s/it, loss=0.492]"
          ]
        },
        {
          "output_type": "stream",
          "name": "stdout",
          "text": [
            "Epoch 5 Loss 0.492 time 3.61\n"
          ]
        },
        {
          "output_type": "stream",
          "name": "stderr",
          "text": [
            "Training CudnnLstmModel:   6%|▌         | 6/100 [00:22<06:04,  3.88s/it, loss=0.482]"
          ]
        },
        {
          "output_type": "stream",
          "name": "stdout",
          "text": [
            "Epoch 6 Loss 0.482 time 3.89\n"
          ]
        },
        {
          "output_type": "stream",
          "name": "stderr",
          "text": [
            "Training CudnnLstmModel:   7%|▋         | 7/100 [00:27<06:12,  4.00s/it, loss=0.465]"
          ]
        },
        {
          "output_type": "stream",
          "name": "stdout",
          "text": [
            "Epoch 7 Loss 0.465 time 4.16\n"
          ]
        },
        {
          "output_type": "stream",
          "name": "stderr",
          "text": [
            "Training CudnnLstmModel:   8%|▊         | 8/100 [00:30<06:00,  3.92s/it, loss=0.456]"
          ]
        },
        {
          "output_type": "stream",
          "name": "stdout",
          "text": [
            "Epoch 8 Loss 0.456 time 3.63\n"
          ]
        },
        {
          "output_type": "stream",
          "name": "stderr",
          "text": [
            "Training CudnnLstmModel:   9%|▉         | 9/100 [00:34<05:50,  3.85s/it, loss=0.445]"
          ]
        },
        {
          "output_type": "stream",
          "name": "stdout",
          "text": [
            "Epoch 9 Loss 0.445 time 3.60\n"
          ]
        },
        {
          "output_type": "stream",
          "name": "stderr",
          "text": [
            "Training CudnnLstmModel:  10%|█         | 10/100 [00:39<06:04,  4.05s/it, loss=0.437]"
          ]
        },
        {
          "output_type": "stream",
          "name": "stdout",
          "text": [
            "Epoch 10 Loss 0.437 time 4.39\n"
          ]
        },
        {
          "output_type": "stream",
          "name": "stderr",
          "text": [
            "Training CudnnLstmModel:  11%|█         | 11/100 [00:42<05:51,  3.95s/it, loss=0.432]"
          ]
        },
        {
          "output_type": "stream",
          "name": "stdout",
          "text": [
            "Epoch 11 Loss 0.432 time 3.61\n"
          ]
        },
        {
          "output_type": "stream",
          "name": "stderr",
          "text": [
            "Training CudnnLstmModel:  12%|█▏        | 12/100 [00:46<05:41,  3.88s/it, loss=0.428]"
          ]
        },
        {
          "output_type": "stream",
          "name": "stdout",
          "text": [
            "Epoch 12 Loss 0.428 time 3.60\n"
          ]
        },
        {
          "output_type": "stream",
          "name": "stderr",
          "text": [
            "Training CudnnLstmModel:  13%|█▎        | 13/100 [00:51<05:52,  4.05s/it, loss=0.418]"
          ]
        },
        {
          "output_type": "stream",
          "name": "stdout",
          "text": [
            "Epoch 13 Loss 0.418 time 4.33\n"
          ]
        },
        {
          "output_type": "stream",
          "name": "stderr",
          "text": [
            "Training CudnnLstmModel:  14%|█▍        | 14/100 [00:54<05:42,  3.98s/it, loss=0.411]"
          ]
        },
        {
          "output_type": "stream",
          "name": "stdout",
          "text": [
            "Epoch 14 Loss 0.411 time 3.72\n"
          ]
        },
        {
          "output_type": "stream",
          "name": "stderr",
          "text": [
            "Training CudnnLstmModel:  15%|█▌        | 15/100 [00:58<05:33,  3.92s/it, loss=0.412]"
          ]
        },
        {
          "output_type": "stream",
          "name": "stdout",
          "text": [
            "Epoch 15 Loss 0.412 time 3.68\n"
          ]
        },
        {
          "output_type": "stream",
          "name": "stderr",
          "text": [
            "Training CudnnLstmModel:  16%|█▌        | 16/100 [01:02<05:35,  3.99s/it, loss=0.408]"
          ]
        },
        {
          "output_type": "stream",
          "name": "stdout",
          "text": [
            "Epoch 16 Loss 0.408 time 4.05\n"
          ]
        },
        {
          "output_type": "stream",
          "name": "stderr",
          "text": [
            "Training CudnnLstmModel:  17%|█▋        | 17/100 [01:06<05:32,  4.00s/it, loss=0.402]"
          ]
        },
        {
          "output_type": "stream",
          "name": "stdout",
          "text": [
            "Epoch 17 Loss 0.402 time 3.92\n"
          ]
        },
        {
          "output_type": "stream",
          "name": "stderr",
          "text": [
            "Training CudnnLstmModel:  18%|█▊        | 18/100 [01:10<05:21,  3.92s/it, loss=0.398]"
          ]
        },
        {
          "output_type": "stream",
          "name": "stdout",
          "text": [
            "Epoch 18 Loss 0.398 time 3.64\n"
          ]
        },
        {
          "output_type": "stream",
          "name": "stderr",
          "text": [
            "Training CudnnLstmModel:  19%|█▉        | 19/100 [01:14<05:15,  3.89s/it, loss=0.395]"
          ]
        },
        {
          "output_type": "stream",
          "name": "stdout",
          "text": [
            "Epoch 19 Loss 0.395 time 3.71\n"
          ]
        },
        {
          "output_type": "stream",
          "name": "stderr",
          "text": [
            "Training CudnnLstmModel:  20%|██        | 20/100 [01:18<05:19,  3.99s/it, loss=0.392]"
          ]
        },
        {
          "output_type": "stream",
          "name": "stdout",
          "text": [
            "Epoch 20 Loss 0.392 time 4.12\n"
          ]
        },
        {
          "output_type": "stream",
          "name": "stderr",
          "text": [
            "Training CudnnLstmModel:  21%|██        | 21/100 [01:22<05:05,  3.87s/it, loss=0.39]"
          ]
        },
        {
          "output_type": "stream",
          "name": "stdout",
          "text": [
            "Epoch 21 Loss 0.390 time 3.48\n"
          ]
        },
        {
          "output_type": "stream",
          "name": "stderr",
          "text": [
            "Training CudnnLstmModel:  22%|██▏       | 22/100 [01:25<04:53,  3.76s/it, loss=0.389]"
          ]
        },
        {
          "output_type": "stream",
          "name": "stdout",
          "text": [
            "Epoch 22 Loss 0.389 time 3.39\n"
          ]
        },
        {
          "output_type": "stream",
          "name": "stderr",
          "text": [
            "Training CudnnLstmModel:  23%|██▎       | 23/100 [01:29<05:00,  3.91s/it, loss=0.386]"
          ]
        },
        {
          "output_type": "stream",
          "name": "stdout",
          "text": [
            "Epoch 23 Loss 0.386 time 4.15\n"
          ]
        },
        {
          "output_type": "stream",
          "name": "stderr",
          "text": [
            "Training CudnnLstmModel:  24%|██▍       | 24/100 [01:33<04:55,  3.89s/it, loss=0.381]"
          ]
        },
        {
          "output_type": "stream",
          "name": "stdout",
          "text": [
            "Epoch 24 Loss 0.381 time 3.75\n"
          ]
        },
        {
          "output_type": "stream",
          "name": "stderr",
          "text": [
            "Training CudnnLstmModel:  25%|██▌       | 25/100 [01:37<04:49,  3.86s/it, loss=0.377]"
          ]
        },
        {
          "output_type": "stream",
          "name": "stdout",
          "text": [
            "Epoch 25 Loss 0.377 time 3.67\n"
          ]
        },
        {
          "output_type": "stream",
          "name": "stderr",
          "text": [
            "Training CudnnLstmModel:  26%|██▌       | 26/100 [01:41<04:54,  3.98s/it, loss=0.379]"
          ]
        },
        {
          "output_type": "stream",
          "name": "stdout",
          "text": [
            "Epoch 26 Loss 0.379 time 4.14\n"
          ]
        },
        {
          "output_type": "stream",
          "name": "stderr",
          "text": [
            "Training CudnnLstmModel:  27%|██▋       | 27/100 [01:45<04:50,  3.98s/it, loss=0.374]"
          ]
        },
        {
          "output_type": "stream",
          "name": "stdout",
          "text": [
            "Epoch 27 Loss 0.374 time 3.87\n"
          ]
        },
        {
          "output_type": "stream",
          "name": "stderr",
          "text": [
            "Training CudnnLstmModel:  28%|██▊       | 28/100 [01:49<04:39,  3.88s/it, loss=0.373]"
          ]
        },
        {
          "output_type": "stream",
          "name": "stdout",
          "text": [
            "Epoch 28 Loss 0.373 time 3.55\n"
          ]
        },
        {
          "output_type": "stream",
          "name": "stderr",
          "text": [
            "Training CudnnLstmModel:  29%|██▉       | 29/100 [01:53<04:31,  3.82s/it, loss=0.371]"
          ]
        },
        {
          "output_type": "stream",
          "name": "stdout",
          "text": [
            "Epoch 29 Loss 0.371 time 3.56\n"
          ]
        },
        {
          "output_type": "stream",
          "name": "stderr",
          "text": [
            "Training CudnnLstmModel:  30%|███       | 30/100 [01:57<04:33,  3.91s/it, loss=0.37]"
          ]
        },
        {
          "output_type": "stream",
          "name": "stdout",
          "text": [
            "Epoch 30 Loss 0.370 time 4.01\n"
          ]
        },
        {
          "output_type": "stream",
          "name": "stderr",
          "text": [
            "Training CudnnLstmModel:  31%|███       | 31/100 [02:00<04:21,  3.79s/it, loss=0.368]"
          ]
        },
        {
          "output_type": "stream",
          "name": "stdout",
          "text": [
            "Epoch 31 Loss 0.368 time 3.41\n"
          ]
        },
        {
          "output_type": "stream",
          "name": "stderr",
          "text": [
            "Training CudnnLstmModel:  32%|███▏      | 32/100 [02:04<04:12,  3.71s/it, loss=0.365]"
          ]
        },
        {
          "output_type": "stream",
          "name": "stdout",
          "text": [
            "Epoch 32 Loss 0.365 time 3.41\n"
          ]
        },
        {
          "output_type": "stream",
          "name": "stderr",
          "text": [
            "Training CudnnLstmModel:  33%|███▎      | 33/100 [02:08<04:18,  3.86s/it, loss=0.366]"
          ]
        },
        {
          "output_type": "stream",
          "name": "stdout",
          "text": [
            "Epoch 33 Loss 0.366 time 4.13\n"
          ]
        },
        {
          "output_type": "stream",
          "name": "stderr",
          "text": [
            "Training CudnnLstmModel:  34%|███▍      | 34/100 [02:12<04:10,  3.79s/it, loss=0.363]"
          ]
        },
        {
          "output_type": "stream",
          "name": "stdout",
          "text": [
            "Epoch 34 Loss 0.363 time 3.51\n"
          ]
        },
        {
          "output_type": "stream",
          "name": "stderr",
          "text": [
            "Training CudnnLstmModel:  35%|███▌      | 35/100 [02:15<04:03,  3.75s/it, loss=0.36]"
          ]
        },
        {
          "output_type": "stream",
          "name": "stdout",
          "text": [
            "Epoch 35 Loss 0.360 time 3.55\n"
          ]
        },
        {
          "output_type": "stream",
          "name": "stderr",
          "text": [
            "Training CudnnLstmModel:  36%|███▌      | 36/100 [02:19<04:08,  3.88s/it, loss=0.359]"
          ]
        },
        {
          "output_type": "stream",
          "name": "stdout",
          "text": [
            "Epoch 36 Loss 0.359 time 4.07\n"
          ]
        },
        {
          "output_type": "stream",
          "name": "stderr",
          "text": [
            "Training CudnnLstmModel:  37%|███▋      | 37/100 [02:24<04:11,  3.99s/it, loss=0.359]"
          ]
        },
        {
          "output_type": "stream",
          "name": "stdout",
          "text": [
            "Epoch 37 Loss 0.359 time 4.16\n"
          ]
        },
        {
          "output_type": "stream",
          "name": "stderr",
          "text": [
            "Training CudnnLstmModel:  38%|███▊      | 38/100 [02:28<04:04,  3.94s/it, loss=0.358]"
          ]
        },
        {
          "output_type": "stream",
          "name": "stdout",
          "text": [
            "Epoch 38 Loss 0.358 time 3.69\n"
          ]
        },
        {
          "output_type": "stream",
          "name": "stderr",
          "text": [
            "Training CudnnLstmModel:  39%|███▉      | 39/100 [02:31<04:00,  3.94s/it, loss=0.355]"
          ]
        },
        {
          "output_type": "stream",
          "name": "stdout",
          "text": [
            "Epoch 39 Loss 0.355 time 3.83\n"
          ]
        },
        {
          "output_type": "stream",
          "name": "stderr",
          "text": [
            "Training CudnnLstmModel:  40%|████      | 40/100 [02:36<04:03,  4.06s/it, loss=0.355]"
          ]
        },
        {
          "output_type": "stream",
          "name": "stdout",
          "text": [
            "Epoch 40 Loss 0.355 time 4.24\n"
          ]
        },
        {
          "output_type": "stream",
          "name": "stderr",
          "text": [
            "Training CudnnLstmModel:  41%|████      | 41/100 [02:40<03:54,  3.97s/it, loss=0.352]"
          ]
        },
        {
          "output_type": "stream",
          "name": "stdout",
          "text": [
            "Epoch 41 Loss 0.352 time 3.67\n"
          ]
        },
        {
          "output_type": "stream",
          "name": "stderr",
          "text": [
            "Training CudnnLstmModel:  42%|████▏     | 42/100 [02:43<03:47,  3.92s/it, loss=0.353]"
          ]
        },
        {
          "output_type": "stream",
          "name": "stdout",
          "text": [
            "Epoch 42 Loss 0.353 time 3.69\n"
          ]
        },
        {
          "output_type": "stream",
          "name": "stderr",
          "text": [
            "Training CudnnLstmModel:  43%|████▎     | 43/100 [02:48<03:53,  4.10s/it, loss=0.352]"
          ]
        },
        {
          "output_type": "stream",
          "name": "stdout",
          "text": [
            "Epoch 43 Loss 0.352 time 4.42\n"
          ]
        },
        {
          "output_type": "stream",
          "name": "stderr",
          "text": [
            "Training CudnnLstmModel:  44%|████▍     | 44/100 [02:52<03:45,  4.02s/it, loss=0.35]"
          ]
        },
        {
          "output_type": "stream",
          "name": "stdout",
          "text": [
            "Epoch 44 Loss 0.350 time 3.73\n"
          ]
        },
        {
          "output_type": "stream",
          "name": "stderr",
          "text": [
            "Training CudnnLstmModel:  45%|████▌     | 45/100 [02:56<03:39,  3.99s/it, loss=0.348]"
          ]
        },
        {
          "output_type": "stream",
          "name": "stdout",
          "text": [
            "Epoch 45 Loss 0.348 time 3.82\n"
          ]
        },
        {
          "output_type": "stream",
          "name": "stderr",
          "text": [
            "Training CudnnLstmModel:  46%|████▌     | 46/100 [03:00<03:45,  4.17s/it, loss=0.346]"
          ]
        },
        {
          "output_type": "stream",
          "name": "stdout",
          "text": [
            "Epoch 46 Loss 0.346 time 4.49\n"
          ]
        },
        {
          "output_type": "stream",
          "name": "stderr",
          "text": [
            "Training CudnnLstmModel:  47%|████▋     | 47/100 [03:04<03:36,  4.08s/it, loss=0.345]"
          ]
        },
        {
          "output_type": "stream",
          "name": "stdout",
          "text": [
            "Epoch 47 Loss 0.345 time 3.77\n"
          ]
        },
        {
          "output_type": "stream",
          "name": "stderr",
          "text": [
            "Training CudnnLstmModel:  48%|████▊     | 48/100 [03:08<03:27,  3.99s/it, loss=0.347]"
          ]
        },
        {
          "output_type": "stream",
          "name": "stdout",
          "text": [
            "Epoch 48 Loss 0.347 time 3.68\n"
          ]
        },
        {
          "output_type": "stream",
          "name": "stderr",
          "text": [
            "Training CudnnLstmModel:  49%|████▉     | 49/100 [03:12<03:28,  4.10s/it, loss=0.344]"
          ]
        },
        {
          "output_type": "stream",
          "name": "stdout",
          "text": [
            "Epoch 49 Loss 0.344 time 4.23\n"
          ]
        },
        {
          "output_type": "stream",
          "name": "stderr",
          "text": [
            "Training CudnnLstmModel:  50%|█████     | 50/100 [03:16<03:23,  4.07s/it, loss=0.342]"
          ]
        },
        {
          "output_type": "stream",
          "name": "stdout",
          "text": [
            "Epoch 50 Loss 0.342 time 3.89\n"
          ]
        },
        {
          "output_type": "stream",
          "name": "stderr",
          "text": [
            "Training CudnnLstmModel:  51%|█████     | 51/100 [03:20<03:14,  3.98s/it, loss=0.342]"
          ]
        },
        {
          "output_type": "stream",
          "name": "stdout",
          "text": [
            "Epoch 51 Loss 0.342 time 3.66\n"
          ]
        },
        {
          "output_type": "stream",
          "name": "stderr",
          "text": [
            "Training CudnnLstmModel:  52%|█████▏    | 52/100 [03:24<03:10,  3.96s/it, loss=0.339]"
          ]
        },
        {
          "output_type": "stream",
          "name": "stdout",
          "text": [
            "Epoch 52 Loss 0.339 time 3.83\n"
          ]
        },
        {
          "output_type": "stream",
          "name": "stderr",
          "text": [
            "Training CudnnLstmModel:  53%|█████▎    | 53/100 [03:28<03:07,  3.99s/it, loss=0.338]"
          ]
        },
        {
          "output_type": "stream",
          "name": "stdout",
          "text": [
            "Epoch 53 Loss 0.338 time 3.95\n"
          ]
        },
        {
          "output_type": "stream",
          "name": "stderr",
          "text": [
            "Training CudnnLstmModel:  54%|█████▍    | 54/100 [03:32<02:58,  3.88s/it, loss=0.338]"
          ]
        },
        {
          "output_type": "stream",
          "name": "stdout",
          "text": [
            "Epoch 54 Loss 0.338 time 3.52\n"
          ]
        },
        {
          "output_type": "stream",
          "name": "stderr",
          "text": [
            "Training CudnnLstmModel:  55%|█████▌    | 55/100 [03:36<02:54,  3.87s/it, loss=0.336]"
          ]
        },
        {
          "output_type": "stream",
          "name": "stdout",
          "text": [
            "Epoch 55 Loss 0.336 time 3.75\n"
          ]
        },
        {
          "output_type": "stream",
          "name": "stderr",
          "text": [
            "Training CudnnLstmModel:  56%|█████▌    | 56/100 [03:40<03:00,  4.11s/it, loss=0.335]"
          ]
        },
        {
          "output_type": "stream",
          "name": "stdout",
          "text": [
            "Epoch 56 Loss 0.335 time 4.55\n"
          ]
        },
        {
          "output_type": "stream",
          "name": "stderr",
          "text": [
            "Training CudnnLstmModel:  57%|█████▋    | 57/100 [03:44<02:53,  4.04s/it, loss=0.335]"
          ]
        },
        {
          "output_type": "stream",
          "name": "stdout",
          "text": [
            "Epoch 57 Loss 0.335 time 3.77\n"
          ]
        },
        {
          "output_type": "stream",
          "name": "stderr",
          "text": [
            "Training CudnnLstmModel:  58%|█████▊    | 58/100 [03:48<02:47,  3.99s/it, loss=0.336]"
          ]
        },
        {
          "output_type": "stream",
          "name": "stdout",
          "text": [
            "Epoch 58 Loss 0.336 time 3.76\n"
          ]
        },
        {
          "output_type": "stream",
          "name": "stderr",
          "text": [
            "Training CudnnLstmModel:  59%|█████▉    | 59/100 [03:52<02:49,  4.13s/it, loss=0.333]"
          ]
        },
        {
          "output_type": "stream",
          "name": "stdout",
          "text": [
            "Epoch 59 Loss 0.333 time 4.37\n"
          ]
        },
        {
          "output_type": "stream",
          "name": "stderr",
          "text": [
            "Training CudnnLstmModel:  60%|██████    | 60/100 [03:56<02:39,  3.98s/it, loss=0.334]"
          ]
        },
        {
          "output_type": "stream",
          "name": "stdout",
          "text": [
            "Epoch 60 Loss 0.334 time 3.51\n"
          ]
        },
        {
          "output_type": "stream",
          "name": "stderr",
          "text": [
            "Training CudnnLstmModel:  61%|██████    | 61/100 [04:00<02:29,  3.84s/it, loss=0.333]"
          ]
        },
        {
          "output_type": "stream",
          "name": "stdout",
          "text": [
            "Epoch 61 Loss 0.333 time 3.41\n"
          ]
        },
        {
          "output_type": "stream",
          "name": "stderr",
          "text": [
            "Training CudnnLstmModel:  62%|██████▏   | 62/100 [04:03<02:26,  3.86s/it, loss=0.33]"
          ]
        },
        {
          "output_type": "stream",
          "name": "stdout",
          "text": [
            "Epoch 62 Loss 0.330 time 3.78\n"
          ]
        },
        {
          "output_type": "stream",
          "name": "stderr",
          "text": [
            "Training CudnnLstmModel:  63%|██████▎   | 63/100 [04:07<02:23,  3.87s/it, loss=0.331]"
          ]
        },
        {
          "output_type": "stream",
          "name": "stdout",
          "text": [
            "Epoch 63 Loss 0.331 time 3.79\n"
          ]
        },
        {
          "output_type": "stream",
          "name": "stderr",
          "text": [
            "Training CudnnLstmModel:  64%|██████▍   | 64/100 [04:11<02:15,  3.76s/it, loss=0.33]"
          ]
        },
        {
          "output_type": "stream",
          "name": "stdout",
          "text": [
            "Epoch 64 Loss 0.330 time 3.42\n"
          ]
        },
        {
          "output_type": "stream",
          "name": "stderr",
          "text": [
            "Training CudnnLstmModel:  65%|██████▌   | 65/100 [04:14<02:09,  3.71s/it, loss=0.33]"
          ]
        },
        {
          "output_type": "stream",
          "name": "stdout",
          "text": [
            "Epoch 65 Loss 0.330 time 3.46\n"
          ]
        },
        {
          "output_type": "stream",
          "name": "stderr",
          "text": [
            "Training CudnnLstmModel:  66%|██████▌   | 66/100 [04:19<02:12,  3.89s/it, loss=0.329]"
          ]
        },
        {
          "output_type": "stream",
          "name": "stdout",
          "text": [
            "Epoch 66 Loss 0.329 time 4.22\n"
          ]
        },
        {
          "output_type": "stream",
          "name": "stderr",
          "text": [
            "Training CudnnLstmModel:  67%|██████▋   | 67/100 [04:23<02:07,  3.86s/it, loss=0.327]"
          ]
        },
        {
          "output_type": "stream",
          "name": "stdout",
          "text": [
            "Epoch 67 Loss 0.327 time 3.69\n"
          ]
        },
        {
          "output_type": "stream",
          "name": "stderr",
          "text": [
            "Training CudnnLstmModel:  68%|██████▊   | 68/100 [04:26<02:03,  3.86s/it, loss=0.325]"
          ]
        },
        {
          "output_type": "stream",
          "name": "stdout",
          "text": [
            "Epoch 68 Loss 0.325 time 3.75\n"
          ]
        },
        {
          "output_type": "stream",
          "name": "stderr",
          "text": [
            "Training CudnnLstmModel:  69%|██████▉   | 69/100 [04:31<02:06,  4.08s/it, loss=0.327]"
          ]
        },
        {
          "output_type": "stream",
          "name": "stdout",
          "text": [
            "Epoch 69 Loss 0.327 time 4.48\n"
          ]
        },
        {
          "output_type": "stream",
          "name": "stderr",
          "text": [
            "Training CudnnLstmModel:  70%|███████   | 70/100 [04:35<02:00,  4.02s/it, loss=0.326]"
          ]
        },
        {
          "output_type": "stream",
          "name": "stdout",
          "text": [
            "Epoch 70 Loss 0.326 time 3.77\n"
          ]
        },
        {
          "output_type": "stream",
          "name": "stderr",
          "text": [
            "Training CudnnLstmModel:  71%|███████   | 71/100 [04:39<01:55,  3.97s/it, loss=0.324]"
          ]
        },
        {
          "output_type": "stream",
          "name": "stdout",
          "text": [
            "Epoch 71 Loss 0.324 time 3.74\n"
          ]
        },
        {
          "output_type": "stream",
          "name": "stderr",
          "text": [
            "Training CudnnLstmModel:  72%|███████▏  | 72/100 [04:43<01:55,  4.11s/it, loss=0.323]"
          ]
        },
        {
          "output_type": "stream",
          "name": "stdout",
          "text": [
            "Epoch 72 Loss 0.323 time 4.34\n"
          ]
        },
        {
          "output_type": "stream",
          "name": "stderr",
          "text": [
            "Training CudnnLstmModel:  73%|███████▎  | 73/100 [04:47<01:49,  4.07s/it, loss=0.325]"
          ]
        },
        {
          "output_type": "stream",
          "name": "stdout",
          "text": [
            "Epoch 73 Loss 0.325 time 3.85\n"
          ]
        },
        {
          "output_type": "stream",
          "name": "stderr",
          "text": [
            "Training CudnnLstmModel:  74%|███████▍  | 74/100 [04:51<01:44,  4.03s/it, loss=0.323]"
          ]
        },
        {
          "output_type": "stream",
          "name": "stdout",
          "text": [
            "Epoch 74 Loss 0.323 time 3.85\n"
          ]
        },
        {
          "output_type": "stream",
          "name": "stderr",
          "text": [
            "Training CudnnLstmModel:  75%|███████▌  | 75/100 [04:55<01:43,  4.15s/it, loss=0.322]"
          ]
        },
        {
          "output_type": "stream",
          "name": "stdout",
          "text": [
            "Epoch 75 Loss 0.322 time 4.33\n"
          ]
        },
        {
          "output_type": "stream",
          "name": "stderr",
          "text": [
            "Training CudnnLstmModel:  76%|███████▌  | 76/100 [05:00<01:39,  4.16s/it, loss=0.321]"
          ]
        },
        {
          "output_type": "stream",
          "name": "stdout",
          "text": [
            "Epoch 76 Loss 0.321 time 4.06\n"
          ]
        },
        {
          "output_type": "stream",
          "name": "stderr",
          "text": [
            "Training CudnnLstmModel:  77%|███████▋  | 77/100 [05:04<01:34,  4.09s/it, loss=0.32]"
          ]
        },
        {
          "output_type": "stream",
          "name": "stdout",
          "text": [
            "Epoch 77 Loss 0.320 time 3.83\n"
          ]
        },
        {
          "output_type": "stream",
          "name": "stderr",
          "text": [
            "Training CudnnLstmModel:  78%|███████▊  | 78/100 [05:08<01:30,  4.13s/it, loss=0.322]"
          ]
        },
        {
          "output_type": "stream",
          "name": "stdout",
          "text": [
            "Epoch 78 Loss 0.322 time 4.12\n"
          ]
        },
        {
          "output_type": "stream",
          "name": "stderr",
          "text": [
            "Training CudnnLstmModel:  79%|███████▉  | 79/100 [05:12<01:28,  4.21s/it, loss=0.318]"
          ]
        },
        {
          "output_type": "stream",
          "name": "stdout",
          "text": [
            "Epoch 79 Loss 0.318 time 4.30\n"
          ]
        },
        {
          "output_type": "stream",
          "name": "stderr",
          "text": [
            "Training CudnnLstmModel:  80%|████████  | 80/100 [05:16<01:22,  4.13s/it, loss=0.32]"
          ]
        },
        {
          "output_type": "stream",
          "name": "stdout",
          "text": [
            "Epoch 80 Loss 0.320 time 3.83\n"
          ]
        },
        {
          "output_type": "stream",
          "name": "stderr",
          "text": [
            "Training CudnnLstmModel:  81%|████████  | 81/100 [05:20<01:17,  4.10s/it, loss=0.319]"
          ]
        },
        {
          "output_type": "stream",
          "name": "stdout",
          "text": [
            "Epoch 81 Loss 0.319 time 3.93\n"
          ]
        },
        {
          "output_type": "stream",
          "name": "stderr",
          "text": [
            "Training CudnnLstmModel:  82%|████████▏ | 82/100 [05:25<01:15,  4.20s/it, loss=0.317]"
          ]
        },
        {
          "output_type": "stream",
          "name": "stdout",
          "text": [
            "Epoch 82 Loss 0.317 time 4.32\n"
          ]
        },
        {
          "output_type": "stream",
          "name": "stderr",
          "text": [
            "Training CudnnLstmModel:  83%|████████▎ | 83/100 [05:28<01:09,  4.09s/it, loss=0.316]"
          ]
        },
        {
          "output_type": "stream",
          "name": "stdout",
          "text": [
            "Epoch 83 Loss 0.316 time 3.73\n"
          ]
        },
        {
          "output_type": "stream",
          "name": "stderr",
          "text": [
            "Training CudnnLstmModel:  84%|████████▍ | 84/100 [05:32<01:03,  3.97s/it, loss=0.318]"
          ]
        },
        {
          "output_type": "stream",
          "name": "stdout",
          "text": [
            "Epoch 84 Loss 0.318 time 3.60\n"
          ]
        },
        {
          "output_type": "stream",
          "name": "stderr",
          "text": [
            "Training CudnnLstmModel:  85%|████████▌ | 85/100 [05:36<01:00,  4.06s/it, loss=0.317]"
          ]
        },
        {
          "output_type": "stream",
          "name": "stdout",
          "text": [
            "Epoch 85 Loss 0.317 time 4.14\n"
          ]
        },
        {
          "output_type": "stream",
          "name": "stderr",
          "text": [
            "Training CudnnLstmModel:  86%|████████▌ | 86/100 [05:40<00:55,  3.98s/it, loss=0.316]"
          ]
        },
        {
          "output_type": "stream",
          "name": "stdout",
          "text": [
            "Epoch 86 Loss 0.316 time 3.70\n"
          ]
        },
        {
          "output_type": "stream",
          "name": "stderr",
          "text": [
            "Training CudnnLstmModel:  87%|████████▋ | 87/100 [05:44<00:51,  3.97s/it, loss=0.315]"
          ]
        },
        {
          "output_type": "stream",
          "name": "stdout",
          "text": [
            "Epoch 87 Loss 0.315 time 3.83\n"
          ]
        },
        {
          "output_type": "stream",
          "name": "stderr",
          "text": [
            "Training CudnnLstmModel:  88%|████████▊ | 88/100 [05:49<00:50,  4.19s/it, loss=0.316]"
          ]
        },
        {
          "output_type": "stream",
          "name": "stdout",
          "text": [
            "Epoch 88 Loss 0.316 time 4.61\n"
          ]
        },
        {
          "output_type": "stream",
          "name": "stderr",
          "text": [
            "Training CudnnLstmModel:  89%|████████▉ | 89/100 [05:53<00:45,  4.13s/it, loss=0.315]"
          ]
        },
        {
          "output_type": "stream",
          "name": "stdout",
          "text": [
            "Epoch 89 Loss 0.315 time 3.87\n"
          ]
        },
        {
          "output_type": "stream",
          "name": "stderr",
          "text": [
            "Training CudnnLstmModel:  90%|█████████ | 90/100 [05:57<00:40,  4.08s/it, loss=0.313]"
          ]
        },
        {
          "output_type": "stream",
          "name": "stdout",
          "text": [
            "Epoch 90 Loss 0.313 time 3.88\n"
          ]
        },
        {
          "output_type": "stream",
          "name": "stderr",
          "text": [
            "Training CudnnLstmModel:  91%|█████████ | 91/100 [06:01<00:37,  4.20s/it, loss=0.313]"
          ]
        },
        {
          "output_type": "stream",
          "name": "stdout",
          "text": [
            "Epoch 91 Loss 0.313 time 4.35\n"
          ]
        },
        {
          "output_type": "stream",
          "name": "stderr",
          "text": [
            "Training CudnnLstmModel:  92%|█████████▏| 92/100 [06:05<00:32,  4.04s/it, loss=0.313]"
          ]
        },
        {
          "output_type": "stream",
          "name": "stdout",
          "text": [
            "Epoch 92 Loss 0.313 time 3.55\n"
          ]
        },
        {
          "output_type": "stream",
          "name": "stderr",
          "text": [
            "Training CudnnLstmModel:  93%|█████████▎| 93/100 [06:09<00:27,  3.90s/it, loss=0.313]"
          ]
        },
        {
          "output_type": "stream",
          "name": "stdout",
          "text": [
            "Epoch 93 Loss 0.313 time 3.49\n"
          ]
        },
        {
          "output_type": "stream",
          "name": "stderr",
          "text": [
            "Training CudnnLstmModel:  94%|█████████▍| 94/100 [06:12<00:23,  3.88s/it, loss=0.312]"
          ]
        },
        {
          "output_type": "stream",
          "name": "stdout",
          "text": [
            "Epoch 94 Loss 0.312 time 3.71\n"
          ]
        },
        {
          "output_type": "stream",
          "name": "stderr",
          "text": [
            "Training CudnnLstmModel:  95%|█████████▌| 95/100 [06:16<00:19,  3.91s/it, loss=0.312]"
          ]
        },
        {
          "output_type": "stream",
          "name": "stdout",
          "text": [
            "Epoch 95 Loss 0.312 time 3.89\n"
          ]
        },
        {
          "output_type": "stream",
          "name": "stderr",
          "text": [
            "Training CudnnLstmModel:  96%|█████████▌| 96/100 [06:20<00:15,  3.81s/it, loss=0.311]"
          ]
        },
        {
          "output_type": "stream",
          "name": "stdout",
          "text": [
            "Epoch 96 Loss 0.311 time 3.46\n"
          ]
        },
        {
          "output_type": "stream",
          "name": "stderr",
          "text": [
            "Training CudnnLstmModel:  97%|█████████▋| 97/100 [06:24<00:11,  3.75s/it, loss=0.309]"
          ]
        },
        {
          "output_type": "stream",
          "name": "stdout",
          "text": [
            "Epoch 97 Loss 0.309 time 3.50\n"
          ]
        },
        {
          "output_type": "stream",
          "name": "stderr",
          "text": [
            "Training CudnnLstmModel:  98%|█████████▊| 98/100 [06:28<00:07,  3.98s/it, loss=0.31]"
          ]
        },
        {
          "output_type": "stream",
          "name": "stdout",
          "text": [
            "Epoch 98 Loss 0.310 time 4.40\n"
          ]
        },
        {
          "output_type": "stream",
          "name": "stderr",
          "text": [
            "Training CudnnLstmModel:  99%|█████████▉| 99/100 [06:32<00:03,  3.93s/it, loss=0.309]"
          ]
        },
        {
          "output_type": "stream",
          "name": "stdout",
          "text": [
            "Epoch 99 Loss 0.309 time 3.71\n"
          ]
        },
        {
          "output_type": "stream",
          "name": "stderr",
          "text": [
            "Training CudnnLstmModel: 100%|██████████| 100/100 [06:36<00:00,  3.96s/it, loss=0.308]"
          ]
        },
        {
          "output_type": "stream",
          "name": "stdout",
          "text": [
            "Epoch 100 Loss 0.308 time 3.71\n"
          ]
        },
        {
          "output_type": "stream",
          "name": "stderr",
          "text": [
            "\n"
          ]
        }
      ]
    },
    {
      "cell_type": "code",
      "source": [
        "\n",
        "# load the model\n",
        "test_model = loadModel(output_s, epoch=val_epoch)\n",
        "\n",
        "# set the path to save result\n",
        "save_csv = os.path.join(output_s, \"predict.csv\")\n",
        "\n",
        "# validation\n",
        "pred_val = testModel(test_model, x_val, c_val, batchSize=len(x_train), filePathLst=[save_csv],)\n",
        "\n",
        "# select the metrics\n",
        "metrics_list = [\"Bias\", \"RMSE\", \"ubRMSE\", \"Corr\"]\n",
        "pred_val = pred_val.numpy()\n",
        "# denormalization\n",
        "pred_val = trans_norm(pred_val, csv_path_s, var_s=target[0], from_raw=False)\n",
        "y_val = trans_norm(y_val, csv_path_s, var_s=target[0], from_raw=False)\n",
        "pred_val, y_val = np.squeeze(pred_val), np.squeeze(y_val)\n",
        "metrics_dict = cal_metric(pred_val, y_val)  # calculate the metrics\n",
        "metrics = [\"Median {}: {:.4f}\".format(x, np.nanmedian(metrics_dict[x])) for x in metrics_list]\n",
        "print(\"Epoch {}: {}\".format(val_epoch, metrics))"
      ],
      "metadata": {
        "colab": {
          "base_uri": "https://localhost:8080/"
        },
        "id": "JvCJ848HW3Xw",
        "outputId": "77fc7bb5-155d-4133-dd56-642f244e1621"
      },
      "execution_count": null,
      "outputs": [
        {
          "output_type": "stream",
          "name": "stderr",
          "text": [
            "/usr/local/lib/python3.10/dist-packages/scipy/stats/_stats_py.py:4781: ConstantInputWarning: An input array is constant; the correlation coefficient is not defined.\n",
            "  warnings.warn(stats.ConstantInputWarning(msg))\n",
            "/usr/local/lib/python3.10/dist-packages/scipy/stats/_stats_py.py:5445: ConstantInputWarning: An input array is constant; the correlation coefficient is not defined.\n",
            "  warnings.warn(stats.ConstantInputWarning(warn_msg))\n"
          ]
        },
        {
          "output_type": "stream",
          "name": "stdout",
          "text": [
            "Epoch 100: ['Median Bias: 0.0046', 'Median RMSE: 0.0316', 'Median ubRMSE: 0.0307', 'Median Corr: 0.8409']\n"
          ]
        }
      ]
    }
  ],
  "metadata": {
    "colab": {
      "provenance": [],
      "gpuType": "T4"
    },
    "kernelspec": {
      "display_name": "Python 3",
      "name": "python3"
    },
    "language_info": {
      "name": "python"
    },
    "accelerator": "GPU"
  },
  "nbformat": 4,
  "nbformat_minor": 0
}